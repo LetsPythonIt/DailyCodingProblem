{
 "cells": [
  {
   "cell_type": "markdown",
   "metadata": {},
   "source": [
    "### Problem 1 [Easy]\n",
    "This problem was recently asked by Google.\n",
    "\n",
    "Given a list of numbers and a number k, return whether any two numbers from the list add up to k. For example, given [10, 15, 3, 7] and k of 17, return true since 10 + 7 is 17.\n",
    "\n",
    "Bonus: Can you do this in one pass?"
   ]
  },
  {
   "cell_type": "code",
   "execution_count": 1,
   "metadata": {},
   "outputs": [],
   "source": [
    "import random\n",
    "random.seed(1)"
   ]
  },
  {
   "cell_type": "code",
   "execution_count": 2,
   "metadata": {},
   "outputs": [],
   "source": [
    "def generateRandomNumbers(start, end, count):\n",
    "    randomNumbers = []\n",
    "    for i in range(count):\n",
    "        randomNumbers.append(random.randint(start, end))\n",
    "    return randomNumbers\n",
    "\n",
    "def problemOne(numberList, reqSum):\n",
    "    # Using O(n2) time\n",
    "    for num1 in numberList:\n",
    "        for num2 in numberList:\n",
    "            if num1+num2 == reqSum:\n",
    "                print(numberList)\n",
    "                print(num1, num2)\n",
    "                return True\n",
    "    print(numberList)\n",
    "    return False"
   ]
  },
  {
   "cell_type": "code",
   "execution_count": 3,
   "metadata": {},
   "outputs": [],
   "source": [
    "randomNumbers = generateRandomNumbers(0,10, 15)"
   ]
  },
  {
   "cell_type": "code",
   "execution_count": 4,
   "metadata": {},
   "outputs": [
    {
     "name": "stdout",
     "output_type": "stream",
     "text": [
      "[2, 9, 1, 4, 1, 7, 7, 7, 10, 6, 3, 1, 7, 0, 6]\n",
      "2 2\n",
      "CPU times: user 62 µs, sys: 6 µs, total: 68 µs\n",
      "Wall time: 71.5 µs\n"
     ]
    },
    {
     "data": {
      "text/plain": [
       "True"
      ]
     },
     "execution_count": 4,
     "metadata": {},
     "output_type": "execute_result"
    }
   ],
   "source": [
    "%%time\n",
    "problemOne(randomNumbers, 4)"
   ]
  },
  {
   "cell_type": "code",
   "execution_count": 5,
   "metadata": {},
   "outputs": [],
   "source": [
    "# Took Help! StackOverFlow\n",
    "def problemOneApproachTwo(numberList, reqSum):\n",
    "    # Bonus: Can you do this in one pass?\n",
    "    \n",
    "    from itertools import combinations\n",
    "    \n",
    "    numberList.sort()\n",
    "    Combos = combinations(numberList, 2)\n",
    "    possibleCombos = len(list(Combos))\n",
    "    \n",
    "    startInd = 0\n",
    "    lastInd = len(numberList) - 1\n",
    "    \n",
    "    for x in range(possibleCombos):\n",
    "        currentSum = numberList[startInd] + numberList[lastInd]\n",
    "        if currentSum < reqSum:\n",
    "            startInd += 1\n",
    "        elif currentSum > reqSum:\n",
    "            lastInd -= 1\n",
    "        else:\n",
    "            print(numberList)\n",
    "            print(numberList[startInd])\n",
    "            print(numberList[lastInd])\n",
    "            return True\n",
    "    print(numberList)\n",
    "    return False"
   ]
  },
  {
   "cell_type": "code",
   "execution_count": 13,
   "metadata": {},
   "outputs": [
    {
     "name": "stdout",
     "output_type": "stream",
     "text": [
      "[0, 1, 1, 1, 2, 3, 4, 6, 6, 7, 7, 7, 7, 9, 10]\n",
      "0\n",
      "4\n",
      "CPU times: user 285 µs, sys: 0 ns, total: 285 µs\n",
      "Wall time: 226 µs\n"
     ]
    },
    {
     "data": {
      "text/plain": [
       "True"
      ]
     },
     "execution_count": 13,
     "metadata": {},
     "output_type": "execute_result"
    }
   ],
   "source": [
    "%%time\n",
    "problemOneApproachTwo(randomNumbers, 4)"
   ]
  },
  {
   "cell_type": "code",
   "execution_count": null,
   "metadata": {},
   "outputs": [],
   "source": []
  },
  {
   "cell_type": "code",
   "execution_count": null,
   "metadata": {},
   "outputs": [],
   "source": []
  }
 ],
 "metadata": {
  "kernelspec": {
   "display_name": "Python 3",
   "language": "python",
   "name": "python3"
  },
  "language_info": {
   "codemirror_mode": {
    "name": "ipython",
    "version": 3
   },
   "file_extension": ".py",
   "mimetype": "text/x-python",
   "name": "python",
   "nbconvert_exporter": "python",
   "pygments_lexer": "ipython3",
   "version": "3.5.2"
  }
 },
 "nbformat": 4,
 "nbformat_minor": 2
}
